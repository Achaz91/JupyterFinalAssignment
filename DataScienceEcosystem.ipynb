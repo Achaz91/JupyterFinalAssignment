{
 "cells": [
  {
   "cell_type": "markdown",
   "id": "00ebcc40-8758-4589-9288-795c2921900f",
   "metadata": {},
   "source": [
    "# Data Science Tools and Ecosystem"
   ]
  },
  {
   "cell_type": "markdown",
   "id": "0b3f64b7-7e57-4f86-a3d8-239e3b8da2d2",
   "metadata": {},
   "source": [
    "In this notebook, Data Science Tools and Ecosystem are summarized."
   ]
  },
  {
   "cell_type": "markdown",
   "id": "6387e054-eb8f-492e-9cb0-4fc8e01409fd",
   "metadata": {},
   "source": [
    "**Objectives:**\n",
    "- List some popular languages for Data Science\n",
    "- List some commonly libraries used by data scientists\n",
    "- Create a table of Data Science tools\n",
    "- Execute an example of arithmetic opration\n",
    "- Do some conversion: minutes to hours"
   ]
  },
  {
   "cell_type": "markdown",
   "id": "f061ed0d-4a6b-4a2a-9b99-35a0c25202b7",
   "metadata": {},
   "source": [
    "Some of the popular languages that Data Science use are:\n",
    "1. Pytho\n",
    "2. R\n",
    "3. SQL\n",
    "4. Java\n",
    "5. Julia\n",
    "6. Scala"
   ]
  },
  {
   "cell_type": "markdown",
   "id": "29394a44-697c-4161-b4d4-ad93bab207f9",
   "metadata": {},
   "source": [
    "Some of the commonly used libraries used by Data Scientists include:\n",
    "1. Numpy\n",
    "2. Pandas\n",
    "3. Matplotlib\n",
    "4. Seaborn\n",
    "5. SciPy\n",
    "6. Keras"
   ]
  },
  {
   "cell_type": "markdown",
   "id": "84228121-4283-42ff-b546-cd3f0080674c",
   "metadata": {},
   "source": [
    "| Data Science Tools  |\n",
    "|---------------------|\n",
    "| Jupyter Notebook    |\n",
    "| RStudio             |\n",
    "| Apache Zeppelin     |"
   ]
  },
  {
   "cell_type": "markdown",
   "id": "d3ff6494-3458-44b4-b3ca-c0a561c1f797",
   "metadata": {},
   "source": [
    "### Below are a few examples of evaluating arithmetic expressions in Python"
   ]
  },
  {
   "cell_type": "code",
   "execution_count": 1,
   "id": "263e0bf0-2fd6-4c3e-b651-a35a1c76749a",
   "metadata": {},
   "outputs": [
    {
     "data": {
      "text/plain": [
       "17"
      ]
     },
     "execution_count": 1,
     "metadata": {},
     "output_type": "execute_result"
    }
   ],
   "source": [
    "# This a simple arithmetic expression to multiply then add integers\n",
    "(3*4)+5"
   ]
  },
  {
   "cell_type": "code",
   "execution_count": 2,
   "id": "267da74c-4008-4fa2-a263-326f3288a696",
   "metadata": {},
   "outputs": [
    {
     "data": {
      "text/plain": [
       "3.3333333333333335"
      ]
     },
     "execution_count": 2,
     "metadata": {},
     "output_type": "execute_result"
    }
   ],
   "source": [
    "# This will convert 200 minutes to hours by dividing by 60\n",
    "200 / 60"
   ]
  },
  {
   "cell_type": "markdown",
   "id": "21ef756c-54e1-401b-8f4b-e943585ece77",
   "metadata": {},
   "source": [
    "## Author\n",
    "Achaz NGWOUA NZIE"
   ]
  },
  {
   "cell_type": "code",
   "execution_count": null,
   "id": "3c0dd96a-e4ef-495d-98ef-8be57d990402",
   "metadata": {},
   "outputs": [],
   "source": []
  }
 ],
 "metadata": {
  "kernelspec": {
   "display_name": "Python 3 (ipykernel)",
   "language": "python",
   "name": "python3"
  },
  "language_info": {
   "codemirror_mode": {
    "name": "ipython",
    "version": 3
   },
   "file_extension": ".py",
   "mimetype": "text/x-python",
   "name": "python",
   "nbconvert_exporter": "python",
   "pygments_lexer": "ipython3",
   "version": "3.12.4"
  }
 },
 "nbformat": 4,
 "nbformat_minor": 5
}
